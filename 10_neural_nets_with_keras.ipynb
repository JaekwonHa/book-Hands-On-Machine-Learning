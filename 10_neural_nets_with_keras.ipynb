{
 "cells": [
  {
   "cell_type": "markdown",
   "source": [
    "**Chapter 10 – Introduction to Artificial Neural Networks with Keras**\n",
    "\n",
    "_This notebook contains all the sample code and solutions to the exercises in chapter 10._"
   ],
   "metadata": {
    "collapsed": false
   }
  },
  {
   "cell_type": "markdown",
   "source": [
    "# Setup"
   ],
   "metadata": {
    "collapsed": false
   }
  },
  {
   "cell_type": "markdown",
   "source": [
    "First, let's import a few common modules, ensure MatplotLib plots figures inline and prepare a function to save the figures. We also check that Python 3.5 or later is installed (although Python 2.x may work, it is deprecated so we strongly recommend you use Python 3 instead), as well as Scikit-Learn ≥0.20 and TensorFlow ≥2.0."
   ],
   "metadata": {
    "collapsed": false
   }
  },
  {
   "cell_type": "code",
   "execution_count": 2,
   "outputs": [
    {
     "name": "stderr",
     "output_type": "stream",
     "text": [
      "2023-04-23 21:59:13.412061: I tensorflow/core/platform/cpu_feature_guard.cc:182] This TensorFlow binary is optimized to use available CPU instructions in performance-critical operations.\n",
      "To enable the following instructions: AVX2 FMA, in other operations, rebuild TensorFlow with the appropriate compiler flags.\n"
     ]
    }
   ],
   "source": [
    "# Python ≥3.5 is required\n",
    "import sys\n",
    "assert sys.version_info >= (3, 5)\n",
    "\n",
    "# Scikit-Learn ≥0.20 is required\n",
    "import sklearn\n",
    "assert sklearn.__version__ >= \"0.20\"\n",
    "\n",
    "try:\n",
    "    # %tensorflow_version only exists in Colab.\n",
    "    %tensorflow_version 2.x\n",
    "except Exception:\n",
    "    pass\n",
    "\n",
    "# TensorFlow ≥2.0 is required\n",
    "import tensorflow as tf\n",
    "assert tf.__version__ >= \"2.0\"\n",
    "\n",
    "# Common imports\n",
    "import numpy as np\n",
    "import os\n",
    "\n",
    "# to make this notebook's output stable across runs\n",
    "np.random.seed(42)\n",
    "\n",
    "# To plot pretty figures\n",
    "%matplotlib inline\n",
    "import matplotlib as mpl\n",
    "import matplotlib.pyplot as plt\n",
    "mpl.rc('axes', labelsize=14)\n",
    "mpl.rc('xtick', labelsize=12)\n",
    "mpl.rc('ytick', labelsize=12)\n",
    "\n",
    "# Where to save the figures\n",
    "PROJECT_ROOT_DIR = \".\"\n",
    "CHAPTER_ID = \"ann\"\n",
    "IMAGES_PATH = os.path.join(PROJECT_ROOT_DIR, \"images\", CHAPTER_ID)\n",
    "os.makedirs(IMAGES_PATH, exist_ok=True)\n",
    "\n",
    "def save_fig(fig_id, tight_layout=True, fig_extension=\"png\", resolution=300):\n",
    "    path = os.path.join(IMAGES_PATH, fig_id + \".\" + fig_extension)\n",
    "    print(\"Saving figure\", fig_id)\n",
    "    if tight_layout:\n",
    "        plt.tight_layout()\n",
    "    plt.savefig(path, format=fig_extension, dpi=resolution)\n"
   ],
   "metadata": {
    "collapsed": false
   }
  },
  {
   "cell_type": "markdown",
   "source": [
    "# Building an Image Classifier"
   ],
   "metadata": {
    "collapsed": false
   }
  },
  {
   "cell_type": "markdown",
   "source": [
    "First let's import TensorFlow and Keras."
   ],
   "metadata": {
    "collapsed": false
   }
  },
  {
   "cell_type": "code",
   "execution_count": 3,
   "outputs": [],
   "source": [
    "import tensorflow as tf\n",
    "from tensorflow import keras"
   ],
   "metadata": {
    "collapsed": false
   }
  },
  {
   "cell_type": "code",
   "execution_count": 4,
   "outputs": [
    {
     "data": {
      "text/plain": "'2.12.0'"
     },
     "execution_count": 4,
     "metadata": {},
     "output_type": "execute_result"
    }
   ],
   "source": [
    "tf.__version__"
   ],
   "metadata": {
    "collapsed": false
   }
  },
  {
   "cell_type": "code",
   "execution_count": 5,
   "outputs": [
    {
     "data": {
      "text/plain": "'2.12.0'"
     },
     "execution_count": 5,
     "metadata": {},
     "output_type": "execute_result"
    }
   ],
   "source": [
    "keras.__version__"
   ],
   "metadata": {
    "collapsed": false
   }
  },
  {
   "cell_type": "markdown",
   "source": [
    "Let's start by loading the fashion MNIST dataset. Keras has a number of functions to load popular datasets in `keras.datasets`. The dataset is already split for you between a training set and a test set, but it can be useful to split the training set further to have a validation set:"
   ],
   "metadata": {
    "collapsed": false
   }
  },
  {
   "cell_type": "code",
   "execution_count": 6,
   "outputs": [],
   "source": [
    "fashion_mnist = keras.datasets.fashion_mnist\n",
    "(X_train_full, y_train_full), (X_test, y_test) = fashion_mnist.load_data()"
   ],
   "metadata": {
    "collapsed": false
   }
  },
  {
   "cell_type": "markdown",
   "source": [
    "The training set contains 60,000 grayscale images, each 28x28 pixels:"
   ],
   "metadata": {
    "collapsed": false
   }
  },
  {
   "cell_type": "code",
   "execution_count": 7,
   "outputs": [
    {
     "data": {
      "text/plain": "numpy.ndarray"
     },
     "execution_count": 7,
     "metadata": {},
     "output_type": "execute_result"
    }
   ],
   "source": [
    "type(X_train_full)"
   ],
   "metadata": {
    "collapsed": false
   }
  },
  {
   "cell_type": "code",
   "execution_count": 8,
   "outputs": [
    {
     "data": {
      "text/plain": "(60000, 28, 28)"
     },
     "execution_count": 8,
     "metadata": {},
     "output_type": "execute_result"
    }
   ],
   "source": [
    "X_train_full.shape"
   ],
   "metadata": {
    "collapsed": false
   }
  },
  {
   "cell_type": "markdown",
   "source": [
    "Each pixel intensity is represented as a byte (0 to 255):"
   ],
   "metadata": {
    "collapsed": false
   }
  },
  {
   "cell_type": "code",
   "execution_count": 9,
   "outputs": [
    {
     "data": {
      "text/plain": "dtype('uint8')"
     },
     "execution_count": 9,
     "metadata": {},
     "output_type": "execute_result"
    }
   ],
   "source": [
    "X_train_full.dtype"
   ],
   "metadata": {
    "collapsed": false
   }
  },
  {
   "cell_type": "markdown",
   "source": [
    "Let's split the full training set into a validation set and a (smaller) training set. We also scale the pixel intensities down to the 0-1 range and convert them to floats, by dividing by 255."
   ],
   "metadata": {
    "collapsed": false
   }
  },
  {
   "cell_type": "code",
   "execution_count": 10,
   "outputs": [
    {
     "data": {
      "text/plain": "(5000, 28, 28)"
     },
     "execution_count": 10,
     "metadata": {},
     "output_type": "execute_result"
    }
   ],
   "source": [
    "X_train_full[:5000].shape"
   ],
   "metadata": {
    "collapsed": false
   }
  },
  {
   "cell_type": "code",
   "execution_count": 11,
   "outputs": [
    {
     "data": {
      "text/plain": "array([[  0,   0,   0,   0,   0,   0,   0,   0,   0,   0,   0,   0,   0,\n          0,   0,   0,   0,   0,   0,   0,   0,   0,   0,   0,   0,   0,\n          0,   0],\n       [  0,   0,   0,   0,   0,   0,   0,   0,   0,   0,   0,   0,   0,\n          0,   0,   0,   0,   0,   0,   0,   0,   0,   0,   0,   0,   0,\n          0,   0],\n       [  0,   0,   0,   0,   0,   0,   0,   0,   0,   0,   0,   0,   0,\n          0,   0,   0,   0,   0,   0,   0,   0,   0,   0,   0,   0,   0,\n          0,   0],\n       [  0,   0,   0,   0,   0,   0,   0,   0,   0,   0,   0,   0,   1,\n          0,   0,  13,  73,   0,   0,   1,   4,   0,   0,   0,   0,   1,\n          1,   0],\n       [  0,   0,   0,   0,   0,   0,   0,   0,   0,   0,   0,   0,   3,\n          0,  36, 136, 127,  62,  54,   0,   0,   0,   1,   3,   4,   0,\n          0,   3],\n       [  0,   0,   0,   0,   0,   0,   0,   0,   0,   0,   0,   0,   6,\n          0, 102, 204, 176, 134, 144, 123,  23,   0,   0,   0,   0,  12,\n         10,   0],\n       [  0,   0,   0,   0,   0,   0,   0,   0,   0,   0,   0,   0,   0,\n          0, 155, 236, 207, 178, 107, 156, 161, 109,  64,  23,  77, 130,\n         72,  15],\n       [  0,   0,   0,   0,   0,   0,   0,   0,   0,   0,   0,   1,   0,\n         69, 207, 223, 218, 216, 216, 163, 127, 121, 122, 146, 141,  88,\n        172,  66],\n       [  0,   0,   0,   0,   0,   0,   0,   0,   0,   1,   1,   1,   0,\n        200, 232, 232, 233, 229, 223, 223, 215, 213, 164, 127, 123, 196,\n        229,   0],\n       [  0,   0,   0,   0,   0,   0,   0,   0,   0,   0,   0,   0,   0,\n        183, 225, 216, 223, 228, 235, 227, 224, 222, 224, 221, 223, 245,\n        173,   0],\n       [  0,   0,   0,   0,   0,   0,   0,   0,   0,   0,   0,   0,   0,\n        193, 228, 218, 213, 198, 180, 212, 210, 211, 213, 223, 220, 243,\n        202,   0],\n       [  0,   0,   0,   0,   0,   0,   0,   0,   0,   1,   3,   0,  12,\n        219, 220, 212, 218, 192, 169, 227, 208, 218, 224, 212, 226, 197,\n        209,  52],\n       [  0,   0,   0,   0,   0,   0,   0,   0,   0,   0,   6,   0,  99,\n        244, 222, 220, 218, 203, 198, 221, 215, 213, 222, 220, 245, 119,\n        167,  56],\n       [  0,   0,   0,   0,   0,   0,   0,   0,   0,   4,   0,   0,  55,\n        236, 228, 230, 228, 240, 232, 213, 218, 223, 234, 217, 217, 209,\n         92,   0],\n       [  0,   0,   1,   4,   6,   7,   2,   0,   0,   0,   0,   0, 237,\n        226, 217, 223, 222, 219, 222, 221, 216, 223, 229, 215, 218, 255,\n         77,   0],\n       [  0,   3,   0,   0,   0,   0,   0,   0,   0,  62, 145, 204, 228,\n        207, 213, 221, 218, 208, 211, 218, 224, 223, 219, 215, 224, 244,\n        159,   0],\n       [  0,   0,   0,   0,  18,  44,  82, 107, 189, 228, 220, 222, 217,\n        226, 200, 205, 211, 230, 224, 234, 176, 188, 250, 248, 233, 238,\n        215,   0],\n       [  0,  57, 187, 208, 224, 221, 224, 208, 204, 214, 208, 209, 200,\n        159, 245, 193, 206, 223, 255, 255, 221, 234, 221, 211, 220, 232,\n        246,   0],\n       [  3, 202, 228, 224, 221, 211, 211, 214, 205, 205, 205, 220, 240,\n         80, 150, 255, 229, 221, 188, 154, 191, 210, 204, 209, 222, 228,\n        225,   0],\n       [ 98, 233, 198, 210, 222, 229, 229, 234, 249, 220, 194, 215, 217,\n        241,  65,  73, 106, 117, 168, 219, 221, 215, 217, 223, 223, 224,\n        229,  29],\n       [ 75, 204, 212, 204, 193, 205, 211, 225, 216, 185, 197, 206, 198,\n        213, 240, 195, 227, 245, 239, 223, 218, 212, 209, 222, 220, 221,\n        230,  67],\n       [ 48, 203, 183, 194, 213, 197, 185, 190, 194, 192, 202, 214, 219,\n        221, 220, 236, 225, 216, 199, 206, 186, 181, 177, 172, 181, 205,\n        206, 115],\n       [  0, 122, 219, 193, 179, 171, 183, 196, 204, 210, 213, 207, 211,\n        210, 200, 196, 194, 191, 195, 191, 198, 192, 176, 156, 167, 177,\n        210,  92],\n       [  0,   0,  74, 189, 212, 191, 175, 172, 175, 181, 185, 188, 189,\n        188, 193, 198, 204, 209, 210, 210, 211, 188, 188, 194, 192, 216,\n        170,   0],\n       [  2,   0,   0,   0,  66, 200, 222, 237, 239, 242, 246, 243, 244,\n        221, 220, 193, 191, 179, 182, 182, 181, 176, 166, 168,  99,  58,\n          0,   0],\n       [  0,   0,   0,   0,   0,   0,   0,  40,  61,  44,  72,  41,  35,\n          0,   0,   0,   0,   0,   0,   0,   0,   0,   0,   0,   0,   0,\n          0,   0],\n       [  0,   0,   0,   0,   0,   0,   0,   0,   0,   0,   0,   0,   0,\n          0,   0,   0,   0,   0,   0,   0,   0,   0,   0,   0,   0,   0,\n          0,   0],\n       [  0,   0,   0,   0,   0,   0,   0,   0,   0,   0,   0,   0,   0,\n          0,   0,   0,   0,   0,   0,   0,   0,   0,   0,   0,   0,   0,\n          0,   0]], dtype=uint8)"
     },
     "execution_count": 11,
     "metadata": {},
     "output_type": "execute_result"
    }
   ],
   "source": [
    "X_train_full[:5000][0]"
   ],
   "metadata": {
    "collapsed": false
   }
  },
  {
   "cell_type": "code",
   "execution_count": 12,
   "outputs": [
    {
     "data": {
      "text/plain": "array([[0.        , 0.        , 0.        , 0.        , 0.        ,\n        0.        , 0.        , 0.        , 0.        , 0.        ,\n        0.        , 0.        , 0.        , 0.        , 0.        ,\n        0.        , 0.        , 0.        , 0.        , 0.        ,\n        0.        , 0.        , 0.        , 0.        , 0.        ,\n        0.        , 0.        , 0.        ],\n       [0.        , 0.        , 0.        , 0.        , 0.        ,\n        0.        , 0.        , 0.        , 0.        , 0.        ,\n        0.        , 0.        , 0.        , 0.        , 0.        ,\n        0.        , 0.        , 0.        , 0.        , 0.        ,\n        0.        , 0.        , 0.        , 0.        , 0.        ,\n        0.        , 0.        , 0.        ],\n       [0.        , 0.        , 0.        , 0.        , 0.        ,\n        0.        , 0.        , 0.        , 0.        , 0.        ,\n        0.        , 0.        , 0.        , 0.        , 0.        ,\n        0.        , 0.        , 0.        , 0.        , 0.        ,\n        0.        , 0.        , 0.        , 0.        , 0.        ,\n        0.        , 0.        , 0.        ],\n       [0.        , 0.        , 0.        , 0.        , 0.        ,\n        0.        , 0.        , 0.        , 0.        , 0.        ,\n        0.        , 0.        , 0.00392157, 0.        , 0.        ,\n        0.05098039, 0.28627451, 0.        , 0.        , 0.00392157,\n        0.01568627, 0.        , 0.        , 0.        , 0.        ,\n        0.00392157, 0.00392157, 0.        ],\n       [0.        , 0.        , 0.        , 0.        , 0.        ,\n        0.        , 0.        , 0.        , 0.        , 0.        ,\n        0.        , 0.        , 0.01176471, 0.        , 0.14117647,\n        0.53333333, 0.49803922, 0.24313725, 0.21176471, 0.        ,\n        0.        , 0.        , 0.00392157, 0.01176471, 0.01568627,\n        0.        , 0.        , 0.01176471],\n       [0.        , 0.        , 0.        , 0.        , 0.        ,\n        0.        , 0.        , 0.        , 0.        , 0.        ,\n        0.        , 0.        , 0.02352941, 0.        , 0.4       ,\n        0.8       , 0.69019608, 0.5254902 , 0.56470588, 0.48235294,\n        0.09019608, 0.        , 0.        , 0.        , 0.        ,\n        0.04705882, 0.03921569, 0.        ],\n       [0.        , 0.        , 0.        , 0.        , 0.        ,\n        0.        , 0.        , 0.        , 0.        , 0.        ,\n        0.        , 0.        , 0.        , 0.        , 0.60784314,\n        0.9254902 , 0.81176471, 0.69803922, 0.41960784, 0.61176471,\n        0.63137255, 0.42745098, 0.25098039, 0.09019608, 0.30196078,\n        0.50980392, 0.28235294, 0.05882353],\n       [0.        , 0.        , 0.        , 0.        , 0.        ,\n        0.        , 0.        , 0.        , 0.        , 0.        ,\n        0.        , 0.00392157, 0.        , 0.27058824, 0.81176471,\n        0.8745098 , 0.85490196, 0.84705882, 0.84705882, 0.63921569,\n        0.49803922, 0.4745098 , 0.47843137, 0.57254902, 0.55294118,\n        0.34509804, 0.6745098 , 0.25882353],\n       [0.        , 0.        , 0.        , 0.        , 0.        ,\n        0.        , 0.        , 0.        , 0.        , 0.00392157,\n        0.00392157, 0.00392157, 0.        , 0.78431373, 0.90980392,\n        0.90980392, 0.91372549, 0.89803922, 0.8745098 , 0.8745098 ,\n        0.84313725, 0.83529412, 0.64313725, 0.49803922, 0.48235294,\n        0.76862745, 0.89803922, 0.        ],\n       [0.        , 0.        , 0.        , 0.        , 0.        ,\n        0.        , 0.        , 0.        , 0.        , 0.        ,\n        0.        , 0.        , 0.        , 0.71764706, 0.88235294,\n        0.84705882, 0.8745098 , 0.89411765, 0.92156863, 0.89019608,\n        0.87843137, 0.87058824, 0.87843137, 0.86666667, 0.8745098 ,\n        0.96078431, 0.67843137, 0.        ],\n       [0.        , 0.        , 0.        , 0.        , 0.        ,\n        0.        , 0.        , 0.        , 0.        , 0.        ,\n        0.        , 0.        , 0.        , 0.75686275, 0.89411765,\n        0.85490196, 0.83529412, 0.77647059, 0.70588235, 0.83137255,\n        0.82352941, 0.82745098, 0.83529412, 0.8745098 , 0.8627451 ,\n        0.95294118, 0.79215686, 0.        ],\n       [0.        , 0.        , 0.        , 0.        , 0.        ,\n        0.        , 0.        , 0.        , 0.        , 0.00392157,\n        0.01176471, 0.        , 0.04705882, 0.85882353, 0.8627451 ,\n        0.83137255, 0.85490196, 0.75294118, 0.6627451 , 0.89019608,\n        0.81568627, 0.85490196, 0.87843137, 0.83137255, 0.88627451,\n        0.77254902, 0.81960784, 0.20392157],\n       [0.        , 0.        , 0.        , 0.        , 0.        ,\n        0.        , 0.        , 0.        , 0.        , 0.        ,\n        0.02352941, 0.        , 0.38823529, 0.95686275, 0.87058824,\n        0.8627451 , 0.85490196, 0.79607843, 0.77647059, 0.86666667,\n        0.84313725, 0.83529412, 0.87058824, 0.8627451 , 0.96078431,\n        0.46666667, 0.65490196, 0.21960784],\n       [0.        , 0.        , 0.        , 0.        , 0.        ,\n        0.        , 0.        , 0.        , 0.        , 0.01568627,\n        0.        , 0.        , 0.21568627, 0.9254902 , 0.89411765,\n        0.90196078, 0.89411765, 0.94117647, 0.90980392, 0.83529412,\n        0.85490196, 0.8745098 , 0.91764706, 0.85098039, 0.85098039,\n        0.81960784, 0.36078431, 0.        ],\n       [0.        , 0.        , 0.00392157, 0.01568627, 0.02352941,\n        0.02745098, 0.00784314, 0.        , 0.        , 0.        ,\n        0.        , 0.        , 0.92941176, 0.88627451, 0.85098039,\n        0.8745098 , 0.87058824, 0.85882353, 0.87058824, 0.86666667,\n        0.84705882, 0.8745098 , 0.89803922, 0.84313725, 0.85490196,\n        1.        , 0.30196078, 0.        ],\n       [0.        , 0.01176471, 0.        , 0.        , 0.        ,\n        0.        , 0.        , 0.        , 0.        , 0.24313725,\n        0.56862745, 0.8       , 0.89411765, 0.81176471, 0.83529412,\n        0.86666667, 0.85490196, 0.81568627, 0.82745098, 0.85490196,\n        0.87843137, 0.8745098 , 0.85882353, 0.84313725, 0.87843137,\n        0.95686275, 0.62352941, 0.        ],\n       [0.        , 0.        , 0.        , 0.        , 0.07058824,\n        0.17254902, 0.32156863, 0.41960784, 0.74117647, 0.89411765,\n        0.8627451 , 0.87058824, 0.85098039, 0.88627451, 0.78431373,\n        0.80392157, 0.82745098, 0.90196078, 0.87843137, 0.91764706,\n        0.69019608, 0.7372549 , 0.98039216, 0.97254902, 0.91372549,\n        0.93333333, 0.84313725, 0.        ],\n       [0.        , 0.22352941, 0.73333333, 0.81568627, 0.87843137,\n        0.86666667, 0.87843137, 0.81568627, 0.8       , 0.83921569,\n        0.81568627, 0.81960784, 0.78431373, 0.62352941, 0.96078431,\n        0.75686275, 0.80784314, 0.8745098 , 1.        , 1.        ,\n        0.86666667, 0.91764706, 0.86666667, 0.82745098, 0.8627451 ,\n        0.90980392, 0.96470588, 0.        ],\n       [0.01176471, 0.79215686, 0.89411765, 0.87843137, 0.86666667,\n        0.82745098, 0.82745098, 0.83921569, 0.80392157, 0.80392157,\n        0.80392157, 0.8627451 , 0.94117647, 0.31372549, 0.58823529,\n        1.        , 0.89803922, 0.86666667, 0.7372549 , 0.60392157,\n        0.74901961, 0.82352941, 0.8       , 0.81960784, 0.87058824,\n        0.89411765, 0.88235294, 0.        ],\n       [0.38431373, 0.91372549, 0.77647059, 0.82352941, 0.87058824,\n        0.89803922, 0.89803922, 0.91764706, 0.97647059, 0.8627451 ,\n        0.76078431, 0.84313725, 0.85098039, 0.94509804, 0.25490196,\n        0.28627451, 0.41568627, 0.45882353, 0.65882353, 0.85882353,\n        0.86666667, 0.84313725, 0.85098039, 0.8745098 , 0.8745098 ,\n        0.87843137, 0.89803922, 0.11372549],\n       [0.29411765, 0.8       , 0.83137255, 0.8       , 0.75686275,\n        0.80392157, 0.82745098, 0.88235294, 0.84705882, 0.7254902 ,\n        0.77254902, 0.80784314, 0.77647059, 0.83529412, 0.94117647,\n        0.76470588, 0.89019608, 0.96078431, 0.9372549 , 0.8745098 ,\n        0.85490196, 0.83137255, 0.81960784, 0.87058824, 0.8627451 ,\n        0.86666667, 0.90196078, 0.2627451 ],\n       [0.18823529, 0.79607843, 0.71764706, 0.76078431, 0.83529412,\n        0.77254902, 0.7254902 , 0.74509804, 0.76078431, 0.75294118,\n        0.79215686, 0.83921569, 0.85882353, 0.86666667, 0.8627451 ,\n        0.9254902 , 0.88235294, 0.84705882, 0.78039216, 0.80784314,\n        0.72941176, 0.70980392, 0.69411765, 0.6745098 , 0.70980392,\n        0.80392157, 0.80784314, 0.45098039],\n       [0.        , 0.47843137, 0.85882353, 0.75686275, 0.70196078,\n        0.67058824, 0.71764706, 0.76862745, 0.8       , 0.82352941,\n        0.83529412, 0.81176471, 0.82745098, 0.82352941, 0.78431373,\n        0.76862745, 0.76078431, 0.74901961, 0.76470588, 0.74901961,\n        0.77647059, 0.75294118, 0.69019608, 0.61176471, 0.65490196,\n        0.69411765, 0.82352941, 0.36078431],\n       [0.        , 0.        , 0.29019608, 0.74117647, 0.83137255,\n        0.74901961, 0.68627451, 0.6745098 , 0.68627451, 0.70980392,\n        0.7254902 , 0.7372549 , 0.74117647, 0.7372549 , 0.75686275,\n        0.77647059, 0.8       , 0.81960784, 0.82352941, 0.82352941,\n        0.82745098, 0.7372549 , 0.7372549 , 0.76078431, 0.75294118,\n        0.84705882, 0.66666667, 0.        ],\n       [0.00784314, 0.        , 0.        , 0.        , 0.25882353,\n        0.78431373, 0.87058824, 0.92941176, 0.9372549 , 0.94901961,\n        0.96470588, 0.95294118, 0.95686275, 0.86666667, 0.8627451 ,\n        0.75686275, 0.74901961, 0.70196078, 0.71372549, 0.71372549,\n        0.70980392, 0.69019608, 0.65098039, 0.65882353, 0.38823529,\n        0.22745098, 0.        , 0.        ],\n       [0.        , 0.        , 0.        , 0.        , 0.        ,\n        0.        , 0.        , 0.15686275, 0.23921569, 0.17254902,\n        0.28235294, 0.16078431, 0.1372549 , 0.        , 0.        ,\n        0.        , 0.        , 0.        , 0.        , 0.        ,\n        0.        , 0.        , 0.        , 0.        , 0.        ,\n        0.        , 0.        , 0.        ],\n       [0.        , 0.        , 0.        , 0.        , 0.        ,\n        0.        , 0.        , 0.        , 0.        , 0.        ,\n        0.        , 0.        , 0.        , 0.        , 0.        ,\n        0.        , 0.        , 0.        , 0.        , 0.        ,\n        0.        , 0.        , 0.        , 0.        , 0.        ,\n        0.        , 0.        , 0.        ],\n       [0.        , 0.        , 0.        , 0.        , 0.        ,\n        0.        , 0.        , 0.        , 0.        , 0.        ,\n        0.        , 0.        , 0.        , 0.        , 0.        ,\n        0.        , 0.        , 0.        , 0.        , 0.        ,\n        0.        , 0.        , 0.        , 0.        , 0.        ,\n        0.        , 0.        , 0.        ]])"
     },
     "execution_count": 12,
     "metadata": {},
     "output_type": "execute_result"
    }
   ],
   "source": [
    "(X_train_full[:5000] / 255.)[0]"
   ],
   "metadata": {
    "collapsed": false
   }
  },
  {
   "cell_type": "code",
   "execution_count": 13,
   "outputs": [
    {
     "data": {
      "text/plain": "<Figure size 640x480 with 1 Axes>",
      "image/png": "[encoded data removed]"
     },
     "metadata": {},
     "output_type": "display_data"
    }
   ],
   "source": [
    "plt.imshow(X_train_full[0], cmap=\"binary\")\n",
    "plt.axis('off')\n",
    "plt.show()"
   ],
   "metadata": {
    "collapsed": false
   }
  },
  {
   "cell_type": "code",
   "execution_count": 14,
   "outputs": [],
   "source": [
    "X_valid, X_train = X_train_full[:5000] / 255., X_train_full[5000:] / 255.\n",
    "y_valid, y_train = y_train_full[:5000], y_train_full[5000:]\n",
    "X_test = X_test / 255."
   ],
   "metadata": {
    "collapsed": false
   }
  },
  {
   "cell_type": "markdown",
   "source": [
    "You can plot an image using Matplotlib's `imshow()` function, with a `'binary'`\n",
    " color map:"
   ],
   "metadata": {
    "collapsed": false
   }
  },
  {
   "cell_type": "code",
   "execution_count": 15,
   "outputs": [
    {
     "data": {
      "text/plain": "<Figure size 640x480 with 1 Axes>",
      "image/png": "[encoded data removed]"
     },
     "metadata": {},
     "output_type": "display_data"
    }
   ],
   "source": [
    "plt.imshow(X_train[0], cmap=\"binary\")\n",
    "plt.axis('off')\n",
    "plt.show()"
   ],
   "metadata": {
    "collapsed": false
   }
  },
  {
   "cell_type": "code",
   "execution_count": 16,
   "outputs": [
    {
     "data": {
      "text/plain": "array([[0.        , 0.        , 0.        , 0.        , 0.        ,\n        0.        , 0.        , 0.        , 0.        , 0.        ,\n        0.        , 0.        , 0.        , 0.        , 0.        ,\n        0.        , 0.        , 0.        , 0.        , 0.00392157,\n        0.        , 0.        , 0.        , 0.        , 0.        ,\n        0.        , 0.        , 0.        ],\n       [0.        , 0.        , 0.        , 0.        , 0.        ,\n        0.        , 0.        , 0.        , 0.        , 0.        ,\n        0.        , 0.17254902, 0.49803922, 0.71372549, 0.7254902 ,\n        0.63137255, 0.47058824, 0.21568627, 0.        , 0.        ,\n        0.        , 0.        , 0.        , 0.        , 0.        ,\n        0.        , 0.        , 0.        ],\n       [0.        , 0.        , 0.        , 0.        , 0.        ,\n        0.        , 0.        , 0.        , 0.        , 0.16470588,\n        0.77647059, 0.98431373, 1.        , 0.98431373, 0.97647059,\n        0.96862745, 1.        , 0.98823529, 0.83921569, 0.39215686,\n        0.        , 0.        , 0.        , 0.        , 0.        ,\n        0.        , 0.        , 0.        ],\n       [0.        , 0.        , 0.        , 0.        , 0.        ,\n        0.        , 0.00784314, 0.        , 0.        , 0.91372549,\n        0.98823529, 0.92941176, 0.9372549 , 0.91764706, 0.92941176,\n        0.92156863, 0.92941176, 0.92941176, 0.99607843, 0.89019608,\n        0.        , 0.        , 0.        , 0.        , 0.00392157,\n        0.        , 0.        , 0.        ],\n       [0.        , 0.        , 0.        , 0.        , 0.        ,\n        0.00784314, 0.        , 0.        , 0.0627451 , 0.82352941,\n        0.88235294, 0.84313725, 0.68627451, 0.85098039, 0.84705882,\n        0.75686275, 0.76862745, 0.88627451, 0.86666667, 0.81960784,\n        0.19607843, 0.        , 0.        , 0.00784314, 0.        ,\n        0.        , 0.        , 0.        ],\n       [0.        , 0.        , 0.        , 0.        , 0.00784314,\n        0.        , 0.        , 0.78039216, 0.89803922, 0.90980392,\n        0.90196078, 0.96078431, 0.8       , 0.85882353, 0.99215686,\n        0.96078431, 0.81176471, 0.76078431, 0.8745098 , 0.90588235,\n        0.9254902 , 0.92156863, 0.        , 0.        , 0.01176471,\n        0.        , 0.        , 0.        ],\n       [0.        , 0.        , 0.        , 0.        , 0.00392157,\n        0.        , 0.5372549 , 0.92156863, 0.8       , 0.81960784,\n        0.78823529, 0.81960784, 0.91764706, 0.74509804, 0.91764706,\n        0.85490196, 0.84313725, 0.93333333, 0.9372549 , 0.8       ,\n        0.74117647, 0.87843137, 0.60392157, 0.        , 0.        ,\n        0.        , 0.        , 0.        ],\n       [0.        , 0.        , 0.        , 0.        , 0.        ,\n        0.        , 0.76078431, 0.78823529, 0.78431373, 0.81960784,\n        0.79215686, 0.75686275, 0.80392157, 0.76078431, 0.71764706,\n        0.85490196, 0.90588235, 0.77254902, 0.6745098 , 0.70980392,\n        0.75686275, 0.80392157, 0.78039216, 0.        , 0.        ,\n        0.        , 0.        , 0.        ],\n       [0.        , 0.        , 0.        , 0.        , 0.        ,\n        0.01176471, 0.83137255, 0.79607843, 0.7372549 , 0.74117647,\n        0.76862745, 0.77647059, 0.77647059, 0.78823529, 0.76862745,\n        0.85098039, 0.70196078, 0.65490196, 0.71764706, 0.85098039,\n        0.77254902, 0.79215686, 0.85882353, 0.11764706, 0.        ,\n        0.        , 0.        , 0.        ],\n       [0.        , 0.        , 0.        , 0.        , 0.        ,\n        0.13333333, 0.88235294, 0.78431373, 0.76078431, 0.74509804,\n        0.7372549 , 0.75294118, 0.76862745, 0.75294118, 0.66666667,\n        0.79215686, 0.74509804, 0.78823529, 0.76470588, 0.78431373,\n        0.78823529, 0.81960784, 0.89019608, 0.19607843, 0.        ,\n        0.        , 0.        , 0.        ],\n       [0.        , 0.        , 0.        , 0.        , 0.        ,\n        0.26666667, 0.88235294, 0.82352941, 0.82745098, 0.77647059,\n        0.75294118, 0.76862745, 0.8       , 0.76862745, 0.70980392,\n        0.83137255, 0.77254902, 0.76470588, 0.75294118, 0.80784314,\n        0.8627451 , 0.82352941, 0.89803922, 0.36470588, 0.        ,\n        0.        , 0.        , 0.        ],\n       [0.        , 0.        , 0.        , 0.        , 0.        ,\n        0.43529412, 0.8745098 , 0.89019608, 0.99215686, 0.81960784,\n        0.76862745, 0.8       , 0.82745098, 0.80784314, 0.71764706,\n        0.84705882, 0.80784314, 0.82352941, 0.79607843, 0.84313725,\n        0.95686275, 0.87843137, 0.89019608, 0.58823529, 0.        ,\n        0.        , 0.        , 0.        ],\n       [0.        , 0.        , 0.        , 0.        , 0.        ,\n        0.54509804, 0.88235294, 0.87843137, 1.        , 0.79215686,\n        0.80784314, 0.83137255, 0.81960784, 0.82745098, 0.74509804,\n        0.83529412, 0.79215686, 0.81176471, 0.80784314, 0.87058824,\n        1.        , 0.90196078, 0.8627451 , 0.74509804, 0.        ,\n        0.        , 0.        , 0.        ],\n       [0.        , 0.        , 0.        , 0.        , 0.        ,\n        0.70588235, 0.88627451, 0.87843137, 1.        , 0.78039216,\n        0.8       , 0.81176471, 0.83921569, 0.83921569, 0.74509804,\n        0.84705882, 0.80784314, 0.79607843, 0.80392157, 0.85882353,\n        0.95294118, 0.87843137, 0.83921569, 0.91764706, 0.        ,\n        0.        , 0.        , 0.        ],\n       [0.        , 0.        , 0.        , 0.        , 0.        ,\n        0.88235294, 0.8745098 , 0.89411765, 0.99607843, 0.81960784,\n        0.80784314, 0.81568627, 0.83529412, 0.82352941, 0.74901961,\n        0.84313725, 0.81176471, 0.8       , 0.81568627, 0.82745098,\n        0.97647059, 0.88627451, 0.83921569, 1.        , 0.14901961,\n        0.        , 0.        , 0.        ],\n       [0.        , 0.        , 0.        , 0.        , 0.        ,\n        0.98039216, 0.90980392, 0.94117647, 0.9372549 , 0.82745098,\n        0.79607843, 0.81960784, 0.80392157, 0.82745098, 0.77254902,\n        0.84313725, 0.81568627, 0.81568627, 0.83921569, 0.83529412,\n        0.9372549 , 0.90588235, 0.85882353, 1.        , 0.31764706,\n        0.        , 0.        , 0.        ],\n       [0.        , 0.        , 0.        , 0.        , 0.        ,\n        0.97254902, 0.9254902 , 0.96862745, 0.94117647, 0.79607843,\n        0.78431373, 0.81568627, 0.80784314, 0.83921569, 0.75686275,\n        0.83529412, 0.83137255, 0.81568627, 0.83137255, 0.82745098,\n        0.95294118, 0.94901961, 0.88235294, 0.99607843, 0.25882353,\n        0.        , 0.        , 0.        ],\n       [0.        , 0.        , 0.        , 0.        , 0.        ,\n        0.96862745, 0.90196078, 0.98823529, 0.88627451, 0.78039216,\n        0.82745098, 0.79215686, 0.82745098, 0.83529412, 0.71372549,\n        0.83529412, 0.83137255, 0.80784314, 0.79215686, 0.85882353,\n        0.81176471, 0.96862745, 0.87058824, 0.92941176, 0.40784314,\n        0.        , 0.        , 0.        ],\n       [0.        , 0.        , 0.        , 0.        , 0.03921569,\n        0.95686275, 0.85882353, 0.98039216, 0.80392157, 0.78039216,\n        0.81960784, 0.79215686, 0.81960784, 0.82745098, 0.74117647,\n        0.83921569, 0.80784314, 0.82352941, 0.78431373, 0.83137255,\n        0.60392157, 0.94117647, 0.81568627, 0.85882353, 0.54901961,\n        0.        , 0.        , 0.        ],\n       [0.        , 0.        , 0.        , 0.        , 0.08235294,\n        1.        , 0.87058824, 0.93333333, 0.72156863, 0.82352941,\n        0.75294118, 0.80784314, 0.81960784, 0.82352941, 0.74117647,\n        0.83529412, 0.82745098, 0.81960784, 0.75294118, 0.89411765,\n        0.60784314, 0.88627451, 0.93333333, 0.94509804, 0.65098039,\n        0.        , 0.        , 0.        ],\n       [0.        , 0.        , 0.        , 0.        , 0.14509804,\n        0.96078431, 0.88627451, 0.94509804, 0.58823529, 0.77254902,\n        0.74117647, 0.8       , 0.81960784, 0.82352941, 0.71764706,\n        0.83529412, 0.83529412, 0.78823529, 0.72156863, 0.84313725,\n        0.57254902, 0.84705882, 0.9254902 , 0.88235294, 0.60392157,\n        0.        , 0.        , 0.        ],\n       [0.        , 0.        , 0.        , 0.        , 0.22745098,\n        0.9372549 , 0.89019608, 1.        , 0.61960784, 0.75686275,\n        0.76470588, 0.8       , 0.81960784, 0.83529412, 0.70588235,\n        0.81176471, 0.85098039, 0.78039216, 0.76078431, 0.82745098,\n        0.61960784, 0.85882353, 0.9254902 , 0.84705882, 0.59215686,\n        0.        , 0.        , 0.        ],\n       [0.        , 0.        , 0.        , 0.        , 0.26666667,\n        0.91372549, 0.88627451, 0.95294118, 0.54509804, 0.78431373,\n        0.75686275, 0.80392157, 0.82352941, 0.81568627, 0.70588235,\n        0.80392157, 0.83137255, 0.79607843, 0.76862745, 0.84705882,\n        0.61568627, 0.70196078, 1.        , 0.84705882, 0.60784314,\n        0.        , 0.        , 0.        ],\n       [0.        , 0.        , 0.        , 0.        , 0.31764706,\n        0.88235294, 0.87843137, 0.82745098, 0.54117647, 0.85882353,\n        0.7254902 , 0.78823529, 0.83529412, 0.81176471, 0.77254902,\n        0.88627451, 0.83137255, 0.78431373, 0.74509804, 0.84313725,\n        0.71764706, 0.35294118, 1.        , 0.82745098, 0.57647059,\n        0.        , 0.        , 0.        ],\n       [0.        , 0.        , 0.        , 0.        , 0.35686275,\n        0.82352941, 0.90196078, 0.61960784, 0.44705882, 0.80392157,\n        0.73333333, 0.81568627, 0.81960784, 0.80784314, 0.75686275,\n        0.82352941, 0.82745098, 0.8       , 0.76470588, 0.8       ,\n        0.70980392, 0.09019608, 1.        , 0.83529412, 0.61960784,\n        0.        , 0.        , 0.        ],\n       [0.        , 0.        , 0.        , 0.        , 0.34117647,\n        0.80392157, 0.90980392, 0.42745098, 0.64313725, 1.        ,\n        0.83921569, 0.87843137, 0.87058824, 0.82352941, 0.77254902,\n        0.83921569, 0.88235294, 0.87058824, 0.82745098, 0.8627451 ,\n        0.85098039, 0.        , 0.91764706, 0.84705882, 0.6627451 ,\n        0.        , 0.        , 0.        ],\n       [0.        , 0.        , 0.        , 0.        , 0.36078431,\n        0.83529412, 0.90980392, 0.57254902, 0.01960784, 0.5254902 ,\n        0.59215686, 0.63529412, 0.66666667, 0.71764706, 0.71372549,\n        0.64313725, 0.65098039, 0.69803922, 0.63529412, 0.61176471,\n        0.38431373, 0.        , 0.94117647, 0.88235294, 0.82352941,\n        0.        , 0.        , 0.        ],\n       [0.        , 0.        , 0.        , 0.        , 0.16862745,\n        0.64313725, 0.80784314, 0.55294118, 0.        , 0.        ,\n        0.        , 0.        , 0.        , 0.        , 0.        ,\n        0.        , 0.        , 0.        , 0.        , 0.        ,\n        0.        , 0.        , 0.49803922, 0.49019608, 0.29803922,\n        0.        , 0.        , 0.        ]])"
     },
     "execution_count": 16,
     "metadata": {},
     "output_type": "execute_result"
    }
   ],
   "source": [
    "X_train[0]"
   ],
   "metadata": {
    "collapsed": false
   }
  },
  {
   "cell_type": "markdown",
   "source": [
    "The labels are the class IDs (represented as uint8), from 0 to 9:"
   ],
   "metadata": {
    "collapsed": false
   }
  },
  {
   "cell_type": "code",
   "execution_count": 17,
   "outputs": [
    {
     "data": {
      "text/plain": "array([4, 0, 7, ..., 3, 0, 5], dtype=uint8)"
     },
     "execution_count": 17,
     "metadata": {},
     "output_type": "execute_result"
    }
   ],
   "source": [
    "y_train"
   ],
   "metadata": {
    "collapsed": false
   }
  },
  {
   "cell_type": "markdown",
   "source": [
    "Here are the corresponding class names:"
   ],
   "metadata": {
    "collapsed": false
   }
  },
  {
   "cell_type": "code",
   "execution_count": 18,
   "outputs": [],
   "source": [
    "class_names = [\"T-shirt/top\", \"Trouser\", \"Pullover\", \"Dress\", \"Coat\",\n",
    "               \"Sandal\", \"Shirt\", \"Sneaker\", \"Bag\", \"Ankle boot\"]"
   ],
   "metadata": {
    "collapsed": false
   }
  },
  {
   "cell_type": "code",
   "execution_count": 19,
   "outputs": [
    {
     "data": {
      "text/plain": "'Coat'"
     },
     "execution_count": 19,
     "metadata": {},
     "output_type": "execute_result"
    }
   ],
   "source": [
    "class_names[y_train[0]]"
   ],
   "metadata": {
    "collapsed": false
   }
  },
  {
   "cell_type": "code",
   "execution_count": 20,
   "outputs": [
    {
     "data": {
      "text/plain": "'Ankle boot'"
     },
     "execution_count": 20,
     "metadata": {},
     "output_type": "execute_result"
    }
   ],
   "source": [
    "class_names[y_train_full[0]]"
   ],
   "metadata": {
    "collapsed": false
   }
  },
  {
   "cell_type": "markdown",
   "source": [
    "The validation set contains 5,000 images, and the test set contains 10,000 images:"
   ],
   "metadata": {
    "collapsed": false
   }
  },
  {
   "cell_type": "code",
   "execution_count": 21,
   "outputs": [
    {
     "data": {
      "text/plain": "(5000, 28, 28)"
     },
     "execution_count": 21,
     "metadata": {},
     "output_type": "execute_result"
    }
   ],
   "source": [
    "X_valid.shape"
   ],
   "metadata": {
    "collapsed": false
   }
  },
  {
   "cell_type": "code",
   "execution_count": 22,
   "outputs": [
    {
     "data": {
      "text/plain": "(10000, 28, 28)"
     },
     "execution_count": 22,
     "metadata": {},
     "output_type": "execute_result"
    }
   ],
   "source": [
    "X_test.shape"
   ],
   "metadata": {
    "collapsed": false
   }
  },
  {
   "cell_type": "markdown",
   "source": [
    "Let's take a look at a sample of the images in the dataset:"
   ],
   "metadata": {
    "collapsed": false
   }
  },
  {
   "cell_type": "code",
   "execution_count": 23,
   "outputs": [
    {
     "name": "stdout",
     "output_type": "stream",
     "text": [
      "Saving figure fashion_mnist_plot\n"
     ]
    },
    {
     "data": {
      "text/plain": "<Figure size 1200x480 with 40 Axes>",
      "image/png": "[encoded data removed]"
     },
     "metadata": {},
     "output_type": "display_data"
    }
   ],
   "source": [
    "n_rows = 4\n",
    "n_cols = 10\n",
    "plt.figure(figsize=(n_cols * 1.2, n_rows * 1.2))\n",
    "for row in range(n_rows):\n",
    "    for col in range(n_cols):\n",
    "        index = n_cols * row + col\n",
    "        plt.subplot(n_rows, n_cols, index + 1)\n",
    "        plt.imshow(X_train[index], cmap=\"binary\", interpolation=\"nearest\")\n",
    "        plt.axis(\"off\")\n",
    "        plt.title(class_names[y_train[index]], fontsize=12)\n",
    "        # 타이틀은 y_train 에서 가져오고, 이미지는 X_train 에서 가져오고\n",
    "plt.subplots_adjust(wspace=0.2, hspace=0.5)\n",
    "save_fig('fashion_mnist_plot', tight_layout=False)\n",
    "plt.show()"
   ],
   "metadata": {
    "collapsed": false
   }
  },
  {
   "cell_type": "code",
   "execution_count": 24,
   "outputs": [],
   "source": [
    "model = keras.models.Sequential()\n",
    "model.add(keras.layers.Flatten(input_shape=[28, 28]))\n",
    "model.add(keras.layers.Dense(300, activation=\"relu\"))\n",
    "model.add(keras.layers.Dense(100, activation=\"relu\"))\n",
    "model.add(keras.layers.Dense(10, activation=\"softmax\"))"
   ],
   "metadata": {
    "collapsed": false
   }
  },
  {
   "cell_type": "code",
   "execution_count": 25,
   "outputs": [],
   "source": [
    "keras.backend.clear_session()\n",
    "np.random.seed(42)\n",
    "tf.random.set_seed(42)"
   ],
   "metadata": {
    "collapsed": false
   }
  },
  {
   "cell_type": "code",
   "execution_count": 26,
   "outputs": [],
   "source": [
    "model = keras.models.Sequential([\n",
    "    keras.layers.Flatten(input_shape=[28, 28]),\n",
    "    keras.layers.Dense(300, activation=\"relu\"),\n",
    "    keras.layers.Dense(100, activation=\"relu\"),\n",
    "    keras.layers.Dense(10, activation=\"softmax\")\n",
    "])"
   ],
   "metadata": {
    "collapsed": false
   }
  },
  {
   "cell_type": "code",
   "execution_count": 27,
   "outputs": [
    {
     "data": {
      "text/plain": "[<keras.layers.reshaping.flatten.Flatten at 0x1387a79a0>,\n <keras.layers.core.dense.Dense at 0x1388989d0>,\n <keras.layers.core.dense.Dense at 0x1388998a0>,\n <keras.layers.core.dense.Dense at 0x138899270>]"
     },
     "execution_count": 27,
     "metadata": {},
     "output_type": "execute_result"
    }
   ],
   "source": [
    "model.layers"
   ],
   "metadata": {
    "collapsed": false
   }
  },
  {
   "cell_type": "code",
   "execution_count": 28,
   "outputs": [
    {
     "name": "stdout",
     "output_type": "stream",
     "text": [
      "Model: \"sequential\"\n",
      "_________________________________________________________________\n",
      " Layer (type)                Output Shape              Param #   \n",
      "=================================================================\n",
      " flatten (Flatten)           (None, 784)               0         \n",
      "                                                                 \n",
      " dense (Dense)               (None, 300)               235500    \n",
      "                                                                 \n",
      " dense_1 (Dense)             (None, 100)               30100     \n",
      "                                                                 \n",
      " dense_2 (Dense)             (None, 10)                1010      \n",
      "                                                                 \n",
      "=================================================================\n",
      "Total params: 266,610\n",
      "Trainable params: 266,610\n",
      "Non-trainable params: 0\n",
      "_________________________________________________________________\n"
     ]
    }
   ],
   "source": [
    "model.summary()\n",
    "# 이전 노드 수 * 지금 노드 수 + 지금 노드 수 = Param 수\n",
    "# 연결 가중치 수 + 편향"
   ],
   "metadata": {
    "collapsed": false
   }
  },
  {
   "cell_type": "code",
   "execution_count": 29,
   "outputs": [
    {
     "name": "stdout",
     "output_type": "stream",
     "text": [
      "You must install pydot (`pip install pydot`) and install graphviz (see instructions at https://graphviz.gitlab.io/download/) for plot_model to work.\n"
     ]
    }
   ],
   "source": [
    "keras.utils.plot_model(model, \"my_fashion_mnist_model.png\", show_shapes=True)"
   ],
   "metadata": {
    "collapsed": false
   }
  },
  {
   "cell_type": "code",
   "execution_count": 30,
   "outputs": [
    {
     "data": {
      "text/plain": "'dense'"
     },
     "execution_count": 30,
     "metadata": {},
     "output_type": "execute_result"
    }
   ],
   "source": [
    "hidden1 = model.layers[1]\n",
    "hidden1.name"
   ],
   "metadata": {
    "collapsed": false
   }
  },
  {
   "cell_type": "code",
   "execution_count": 31,
   "outputs": [
    {
     "data": {
      "text/plain": "True"
     },
     "execution_count": 31,
     "metadata": {},
     "output_type": "execute_result"
    }
   ],
   "source": [
    "model.get_layer(hidden1.name) is hidden1"
   ],
   "metadata": {
    "collapsed": false
   }
  },
  {
   "cell_type": "code",
   "execution_count": 32,
   "outputs": [
    {
     "data": {
      "text/plain": "array([[-0.05556048,  0.06124069, -0.0357651 , ...,  0.07207651,\n         0.00630136,  0.05595088],\n       [-0.04256808,  0.04278255,  0.00437036, ...,  0.05292776,\n        -0.030833  , -0.06943568],\n       [ 0.01118138, -0.00741811,  0.07383712, ..., -0.02177088,\n        -0.02820893, -0.02295589],\n       ...,\n       [ 0.02390438, -0.07040863, -0.05216154, ..., -0.00310191,\n        -0.06712722, -0.04684997],\n       [ 0.00272432, -0.01825662,  0.00509339, ..., -0.06912974,\n        -0.03233472,  0.0283372 ],\n       [ 0.03922911, -0.02331236,  0.03456831, ...,  0.04337927,\n         0.05119556,  0.01251134]], dtype=float32)"
     },
     "execution_count": 32,
     "metadata": {},
     "output_type": "execute_result"
    }
   ],
   "source": [
    "weights, biases = hidden1.get_weights()\n",
    "weights"
   ],
   "metadata": {
    "collapsed": false
   }
  },
  {
   "cell_type": "code",
   "execution_count": 33,
   "outputs": [
    {
     "data": {
      "text/plain": "(784, 300)"
     },
     "execution_count": 33,
     "metadata": {},
     "output_type": "execute_result"
    }
   ],
   "source": [
    "weights.shape"
   ],
   "metadata": {
    "collapsed": false
   }
  },
  {
   "cell_type": "code",
   "execution_count": 34,
   "outputs": [
    {
     "data": {
      "text/plain": "array([0., 0., 0., 0., 0., 0., 0., 0., 0., 0., 0., 0., 0., 0., 0., 0., 0.,\n       0., 0., 0., 0., 0., 0., 0., 0., 0., 0., 0., 0., 0., 0., 0., 0., 0.,\n       0., 0., 0., 0., 0., 0., 0., 0., 0., 0., 0., 0., 0., 0., 0., 0., 0.,\n       0., 0., 0., 0., 0., 0., 0., 0., 0., 0., 0., 0., 0., 0., 0., 0., 0.,\n       0., 0., 0., 0., 0., 0., 0., 0., 0., 0., 0., 0., 0., 0., 0., 0., 0.,\n       0., 0., 0., 0., 0., 0., 0., 0., 0., 0., 0., 0., 0., 0., 0., 0., 0.,\n       0., 0., 0., 0., 0., 0., 0., 0., 0., 0., 0., 0., 0., 0., 0., 0., 0.,\n       0., 0., 0., 0., 0., 0., 0., 0., 0., 0., 0., 0., 0., 0., 0., 0., 0.,\n       0., 0., 0., 0., 0., 0., 0., 0., 0., 0., 0., 0., 0., 0., 0., 0., 0.,\n       0., 0., 0., 0., 0., 0., 0., 0., 0., 0., 0., 0., 0., 0., 0., 0., 0.,\n       0., 0., 0., 0., 0., 0., 0., 0., 0., 0., 0., 0., 0., 0., 0., 0., 0.,\n       0., 0., 0., 0., 0., 0., 0., 0., 0., 0., 0., 0., 0., 0., 0., 0., 0.,\n       0., 0., 0., 0., 0., 0., 0., 0., 0., 0., 0., 0., 0., 0., 0., 0., 0.,\n       0., 0., 0., 0., 0., 0., 0., 0., 0., 0., 0., 0., 0., 0., 0., 0., 0.,\n       0., 0., 0., 0., 0., 0., 0., 0., 0., 0., 0., 0., 0., 0., 0., 0., 0.,\n       0., 0., 0., 0., 0., 0., 0., 0., 0., 0., 0., 0., 0., 0., 0., 0., 0.,\n       0., 0., 0., 0., 0., 0., 0., 0., 0., 0., 0., 0., 0., 0., 0., 0., 0.,\n       0., 0., 0., 0., 0., 0., 0., 0., 0., 0., 0.], dtype=float32)"
     },
     "execution_count": 34,
     "metadata": {},
     "output_type": "execute_result"
    }
   ],
   "source": [
    "biases"
   ],
   "metadata": {
    "collapsed": false
   }
  },
  {
   "cell_type": "code",
   "execution_count": 35,
   "outputs": [
    {
     "data": {
      "text/plain": "(300,)"
     },
     "execution_count": 35,
     "metadata": {},
     "output_type": "execute_result"
    }
   ],
   "source": [
    "biases.shape"
   ],
   "metadata": {
    "collapsed": false
   }
  },
  {
   "cell_type": "code",
   "execution_count": 36,
   "outputs": [],
   "source": [
    "model.compile(loss=\"sparse_categorical_crossentropy\",\n",
    "              optimizer=\"sgd\",\n",
    "              metrics=[\"accuracy\"])"
   ],
   "metadata": {
    "collapsed": false
   }
  },
  {
   "cell_type": "markdown",
   "source": [
    "This is equivalent to:"
   ],
   "metadata": {
    "collapsed": false
   }
  },
  {
   "cell_type": "markdown",
   "source": [
    "```python\n",
    "model.compile(loss=keras.losses.sparse_categorical_crossentropy,\n",
    "              optimizer=keras.optimizers.SGD(),\n",
    "              metrics=[keras.metrics.sparse_categorical_accuracy])\n",
    "```"
   ],
   "metadata": {
    "collapsed": false
   }
  },
  {
   "cell_type": "code",
   "execution_count": 37,
   "outputs": [
    {
     "name": "stdout",
     "output_type": "stream",
     "text": [
      "Epoch 1/30\n",
      "1719/1719 [==============================] - 5s 2ms/step - loss: 0.7257 - accuracy: 0.7611 - val_loss: 0.5274 - val_accuracy: 0.8162\n",
      "Epoch 2/30\n",
      "1719/1719 [==============================] - 4s 2ms/step - loss: 0.4881 - accuracy: 0.8286 - val_loss: 0.4370 - val_accuracy: 0.8512\n",
      "Epoch 3/30\n",
      "1719/1719 [==============================] - 4s 2ms/step - loss: 0.4440 - accuracy: 0.8437 - val_loss: 0.5492 - val_accuracy: 0.7956\n",
      "Epoch 4/30\n",
      "1719/1719 [==============================] - 4s 2ms/step - loss: 0.4178 - accuracy: 0.8550 - val_loss: 0.3995 - val_accuracy: 0.8622\n",
      "Epoch 5/30\n",
      "1719/1719 [==============================] - 4s 2ms/step - loss: 0.3997 - accuracy: 0.8601 - val_loss: 0.3796 - val_accuracy: 0.8672\n",
      "Epoch 6/30\n",
      "1719/1719 [==============================] - 4s 2ms/step - loss: 0.3810 - accuracy: 0.8657 - val_loss: 0.3740 - val_accuracy: 0.8738\n",
      "Epoch 7/30\n",
      "1719/1719 [==============================] - 4s 2ms/step - loss: 0.3684 - accuracy: 0.8702 - val_loss: 0.3676 - val_accuracy: 0.8722\n",
      "Epoch 8/30\n",
      "1719/1719 [==============================] - 4s 2ms/step - loss: 0.3568 - accuracy: 0.8733 - val_loss: 0.3978 - val_accuracy: 0.8582\n",
      "Epoch 9/30\n",
      "1719/1719 [==============================] - 4s 2ms/step - loss: 0.3464 - accuracy: 0.8777 - val_loss: 0.3510 - val_accuracy: 0.8756\n",
      "Epoch 10/30\n",
      "1719/1719 [==============================] - 4s 2ms/step - loss: 0.3370 - accuracy: 0.8809 - val_loss: 0.3504 - val_accuracy: 0.8764\n",
      "Epoch 11/30\n",
      "1719/1719 [==============================] - 4s 2ms/step - loss: 0.3283 - accuracy: 0.8827 - val_loss: 0.3458 - val_accuracy: 0.8766\n",
      "Epoch 12/30\n",
      "1719/1719 [==============================] - 4s 2ms/step - loss: 0.3191 - accuracy: 0.8858 - val_loss: 0.3335 - val_accuracy: 0.8798\n",
      "Epoch 13/30\n",
      "1719/1719 [==============================] - 4s 2ms/step - loss: 0.3120 - accuracy: 0.8887 - val_loss: 0.3401 - val_accuracy: 0.8810\n",
      "Epoch 14/30\n",
      "1719/1719 [==============================] - 4s 2ms/step - loss: 0.3061 - accuracy: 0.8895 - val_loss: 0.3563 - val_accuracy: 0.8696\n",
      "Epoch 15/30\n",
      "1719/1719 [==============================] - 4s 2ms/step - loss: 0.2982 - accuracy: 0.8930 - val_loss: 0.3309 - val_accuracy: 0.8778\n",
      "Epoch 16/30\n",
      "1719/1719 [==============================] - 4s 2ms/step - loss: 0.2930 - accuracy: 0.8957 - val_loss: 0.3164 - val_accuracy: 0.8842\n",
      "Epoch 17/30\n",
      "1719/1719 [==============================] - 4s 2ms/step - loss: 0.2874 - accuracy: 0.8970 - val_loss: 0.3608 - val_accuracy: 0.8702\n",
      "Epoch 18/30\n",
      "1719/1719 [==============================] - 4s 2ms/step - loss: 0.2813 - accuracy: 0.8981 - val_loss: 0.3233 - val_accuracy: 0.8862\n",
      "Epoch 19/30\n",
      "1719/1719 [==============================] - 4s 2ms/step - loss: 0.2766 - accuracy: 0.9003 - val_loss: 0.3142 - val_accuracy: 0.8886\n",
      "Epoch 20/30\n",
      "1719/1719 [==============================] - 4s 2ms/step - loss: 0.2712 - accuracy: 0.9030 - val_loss: 0.3332 - val_accuracy: 0.8814\n",
      "Epoch 21/30\n",
      "1719/1719 [==============================] - 4s 2ms/step - loss: 0.2660 - accuracy: 0.9040 - val_loss: 0.3041 - val_accuracy: 0.8904\n",
      "Epoch 22/30\n",
      "1719/1719 [==============================] - 4s 2ms/step - loss: 0.2616 - accuracy: 0.9062 - val_loss: 0.3033 - val_accuracy: 0.8920\n",
      "Epoch 23/30\n",
      "1719/1719 [==============================] - 4s 2ms/step - loss: 0.2573 - accuracy: 0.9070 - val_loss: 0.3050 - val_accuracy: 0.8924\n",
      "Epoch 24/30\n",
      "1719/1719 [==============================] - 4s 2ms/step - loss: 0.2531 - accuracy: 0.9092 - val_loss: 0.3101 - val_accuracy: 0.8852\n",
      "Epoch 25/30\n",
      "1719/1719 [==============================] - 4s 2ms/step - loss: 0.2484 - accuracy: 0.9103 - val_loss: 0.3047 - val_accuracy: 0.8942\n",
      "Epoch 26/30\n",
      "1719/1719 [==============================] - 4s 2ms/step - loss: 0.2437 - accuracy: 0.9127 - val_loss: 0.3047 - val_accuracy: 0.8920\n",
      "Epoch 27/30\n",
      "1719/1719 [==============================] - 4s 2ms/step - loss: 0.2408 - accuracy: 0.9122 - val_loss: 0.3024 - val_accuracy: 0.8952\n",
      "Epoch 28/30\n",
      "1719/1719 [==============================] - 4s 2ms/step - loss: 0.2371 - accuracy: 0.9140 - val_loss: 0.3076 - val_accuracy: 0.8902\n",
      "Epoch 29/30\n",
      "1719/1719 [==============================] - 4s 2ms/step - loss: 0.2329 - accuracy: 0.9159 - val_loss: 0.3186 - val_accuracy: 0.8848\n",
      "Epoch 30/30\n",
      "1719/1719 [==============================] - 4s 2ms/step - loss: 0.2288 - accuracy: 0.9176 - val_loss: 0.3188 - val_accuracy: 0.8898\n"
     ]
    }
   ],
   "source": [
    "history = model.fit(X_train, y_train, epochs=30,\n",
    "                    validation_data=(X_valid, y_valid))"
   ],
   "metadata": {
    "collapsed": false
   }
  },
  {
   "cell_type": "code",
   "execution_count": 38,
   "outputs": [
    {
     "data": {
      "text/plain": "{'verbose': 1, 'epochs': 30, 'steps': 1719}"
     },
     "execution_count": 38,
     "metadata": {},
     "output_type": "execute_result"
    }
   ],
   "source": [
    "history.params"
   ],
   "metadata": {
    "collapsed": false
   }
  },
  {
   "cell_type": "code",
   "execution_count": 39,
   "outputs": [
    {
     "name": "stdout",
     "output_type": "stream",
     "text": [
      "[0, 1, 2, 3, 4, 5, 6, 7, 8, 9, 10, 11, 12, 13, 14, 15, 16, 17, 18, 19, 20, 21, 22, 23, 24, 25, 26, 27, 28, 29]\n"
     ]
    }
   ],
   "source": [
    "print(history.epoch)"
   ],
   "metadata": {
    "collapsed": false
   }
  },
  {
   "cell_type": "code",
   "execution_count": 40,
   "outputs": [
    {
     "data": {
      "text/plain": "dict_keys(['loss', 'accuracy', 'val_loss', 'val_accuracy'])"
     },
     "execution_count": 40,
     "metadata": {},
     "output_type": "execute_result"
    }
   ],
   "source": [
    "history.history.keys()"
   ],
   "metadata": {
    "collapsed": false
   }
  },
  {
   "cell_type": "code",
   "execution_count": 41,
   "outputs": [
    {
     "name": "stdout",
     "output_type": "stream",
     "text": [
      "Saving figure keras_learning_curves_plot\n"
     ]
    },
    {
     "data": {
      "text/plain": "<Figure size 800x500 with 1 Axes>",
      "image/png": "[encoded data removed]"
     },
     "metadata": {},
     "output_type": "display_data"
    }
   ],
   "source": [
    "import pandas as pd\n",
    "\n",
    "pd.DataFrame(history.history).plot(figsize=(8, 5))\n",
    "plt.grid(True)\n",
    "plt.gca().set_ylim(0, 1)\n",
    "save_fig(\"keras_learning_curves_plot\")\n",
    "plt.show()"
   ],
   "metadata": {
    "collapsed": false
   }
  },
  {
   "cell_type": "code",
   "execution_count": 42,
   "outputs": [
    {
     "name": "stdout",
     "output_type": "stream",
     "text": [
      "313/313 [==============================] - 0s 1ms/step - loss: 0.3507 - accuracy: 0.8786\n"
     ]
    },
    {
     "data": {
      "text/plain": "[0.350650429725647, 0.878600001335144]"
     },
     "execution_count": 42,
     "metadata": {},
     "output_type": "execute_result"
    }
   ],
   "source": [
    "model.evaluate(X_test, y_test)"
   ],
   "metadata": {
    "collapsed": false
   }
  },
  {
   "cell_type": "code",
   "execution_count": 43,
   "outputs": [
    {
     "name": "stdout",
     "output_type": "stream",
     "text": [
      "1/1 [==============================] - 0s 82ms/step\n"
     ]
    },
    {
     "data": {
      "text/plain": "array([[0.  , 0.  , 0.  , 0.  , 0.  , 0.01, 0.  , 0.02, 0.  , 0.97],\n       [0.  , 0.  , 0.99, 0.  , 0.01, 0.  , 0.  , 0.  , 0.  , 0.  ],\n       [0.  , 1.  , 0.  , 0.  , 0.  , 0.  , 0.  , 0.  , 0.  , 0.  ]],\n      dtype=float32)"
     },
     "execution_count": 43,
     "metadata": {},
     "output_type": "execute_result"
    }
   ],
   "source": [
    "X_new = X_test[:3]\n",
    "y_proba = model.predict(X_new)\n",
    "y_proba.round(2)"
   ],
   "metadata": {
    "collapsed": false
   }
  },
  {
   "cell_type": "markdown",
   "source": [
    "**Warning**: `model.predict_classes(X_new)` is deprecated. It is replaced with `np.argmax(model.predict(X_new), axis=-1)`."
   ],
   "metadata": {
    "collapsed": false
   }
  },
  {
   "cell_type": "code",
   "execution_count": 44,
   "outputs": [
    {
     "name": "stdout",
     "output_type": "stream",
     "text": [
      "1/1 [==============================] - 0s 18ms/step\n"
     ]
    },
    {
     "data": {
      "text/plain": "array([9, 2, 1])"
     },
     "execution_count": 44,
     "metadata": {},
     "output_type": "execute_result"
    }
   ],
   "source": [
    "#y_pred = model.predict_classes(X_new) # deprecated\n",
    "y_pred = np.argmax(model.predict(X_new), axis=-1)\n",
    "y_pred"
   ],
   "metadata": {
    "collapsed": false
   }
  },
  {
   "cell_type": "code",
   "execution_count": 45,
   "outputs": [
    {
     "data": {
      "text/plain": "array(['Ankle boot', 'Pullover', 'Trouser'], dtype='<U11')"
     },
     "execution_count": 45,
     "metadata": {},
     "output_type": "execute_result"
    }
   ],
   "source": [
    "np.array(class_names)[y_pred]"
   ],
   "metadata": {
    "collapsed": false
   }
  },
  {
   "cell_type": "code",
   "execution_count": 46,
   "outputs": [
    {
     "data": {
      "text/plain": "array([9, 2, 1], dtype=uint8)"
     },
     "execution_count": 46,
     "metadata": {},
     "output_type": "execute_result"
    }
   ],
   "source": [
    "y_new = y_test[:3]\n",
    "y_new"
   ],
   "metadata": {
    "collapsed": false
   }
  },
  {
   "cell_type": "code",
   "execution_count": 47,
   "outputs": [
    {
     "name": "stdout",
     "output_type": "stream",
     "text": [
      "Saving figure fashion_mnist_images_plot\n"
     ]
    },
    {
     "data": {
      "text/plain": "<Figure size 720x240 with 3 Axes>",
      "image/png": "[encoded data removed]"
     },
     "metadata": {},
     "output_type": "display_data"
    }
   ],
   "source": [
    "plt.figure(figsize=(7.2, 2.4))\n",
    "for index, image in enumerate(X_new):\n",
    "    plt.subplot(1, 3, index + 1)\n",
    "    plt.imshow(image, cmap=\"binary\", interpolation=\"nearest\")\n",
    "    plt.axis('off')\n",
    "    plt.title(class_names[y_test[index]], fontsize=12)\n",
    "plt.subplots_adjust(wspace=0.2, hspace=0.5)\n",
    "save_fig('fashion_mnist_images_plot', tight_layout=False)\n",
    "plt.show()"
   ],
   "metadata": {
    "collapsed": false
   }
  },
  {
   "cell_type": "markdown",
   "source": [
    "# Regression MLP"
   ],
   "metadata": {
    "collapsed": false
   }
  },
  {
   "cell_type": "markdown",
   "source": [
    "Let's load, split and scale the California housing dataset (the original one, not the modified one as in chapter 2):"
   ],
   "metadata": {
    "collapsed": false
   }
  },
  {
   "cell_type": "code",
   "execution_count": 48,
   "outputs": [],
   "source": [
    "from sklearn.datasets import fetch_california_housing\n",
    "from sklearn.model_selection import train_test_split\n",
    "from sklearn.preprocessing import StandardScaler\n",
    "\n",
    "housing = fetch_california_housing()\n",
    "\n",
    "X_train_full, X_test, y_train_full, y_test = train_test_split(housing.data, housing.target, random_state=42)\n",
    "X_train, X_valid, y_train, y_valid = train_test_split(X_train_full, y_train_full, random_state=42)\n",
    "\n",
    "scaler = StandardScaler()\n",
    "X_train = scaler.fit_transform(X_train)\n",
    "X_valid = scaler.transform(X_valid)\n",
    "X_test = scaler.transform(X_test)"
   ],
   "metadata": {
    "collapsed": false
   }
  },
  {
   "cell_type": "code",
   "execution_count": 49,
   "outputs": [],
   "source": [
    "np.random.seed(42)\n",
    "tf.random.set_seed(42)"
   ],
   "metadata": {
    "collapsed": false
   }
  },
  {
   "cell_type": "code",
   "execution_count": 51,
   "outputs": [
    {
     "name": "stdout",
     "output_type": "stream",
     "text": [
      "Epoch 1/20\n",
      "363/363 [==============================] - 1s 1ms/step - loss: 1.9269 - val_loss: 4.8443\n",
      "Epoch 2/20\n",
      "363/363 [==============================] - 0s 872us/step - loss: 0.8144 - val_loss: 0.7709\n",
      "Epoch 3/20\n",
      "363/363 [==============================] - 0s 962us/step - loss: 0.7024 - val_loss: 0.8813\n",
      "Epoch 4/20\n",
      "363/363 [==============================] - 0s 996us/step - loss: 0.6631 - val_loss: 0.6221\n",
      "Epoch 5/20\n",
      "363/363 [==============================] - 0s 928us/step - loss: 0.6263 - val_loss: 0.5876\n",
      "Epoch 6/20\n",
      "363/363 [==============================] - 0s 919us/step - loss: 0.5941 - val_loss: 0.6344\n",
      "Epoch 7/20\n",
      "363/363 [==============================] - 0s 881us/step - loss: 0.5689 - val_loss: 0.6664\n",
      "Epoch 8/20\n",
      "363/363 [==============================] - 0s 881us/step - loss: 0.5475 - val_loss: 0.5207\n",
      "Epoch 9/20\n",
      "363/363 [==============================] - 0s 933us/step - loss: 0.5256 - val_loss: 0.5545\n",
      "Epoch 10/20\n",
      "363/363 [==============================] - 0s 977us/step - loss: 0.5083 - val_loss: 0.6125\n",
      "Epoch 11/20\n",
      "363/363 [==============================] - 0s 912us/step - loss: 0.4948 - val_loss: 0.5036\n",
      "Epoch 12/20\n",
      "363/363 [==============================] - 0s 962us/step - loss: 0.4812 - val_loss: 0.6765\n",
      "Epoch 13/20\n",
      "363/363 [==============================] - 0s 856us/step - loss: 0.4725 - val_loss: 0.4498\n",
      "Epoch 14/20\n",
      "363/363 [==============================] - 0s 872us/step - loss: 0.4619 - val_loss: 0.4538\n",
      "Epoch 15/20\n",
      "363/363 [==============================] - 0s 898us/step - loss: 0.4542 - val_loss: 0.4356\n",
      "Epoch 16/20\n",
      "363/363 [==============================] - 0s 896us/step - loss: 0.4474 - val_loss: 0.4595\n",
      "Epoch 17/20\n",
      "363/363 [==============================] - 0s 897us/step - loss: 0.4420 - val_loss: 0.4181\n",
      "Epoch 18/20\n",
      "363/363 [==============================] - 0s 998us/step - loss: 0.4373 - val_loss: 0.4096\n",
      "Epoch 19/20\n",
      "363/363 [==============================] - 0s 888us/step - loss: 0.4330 - val_loss: 0.4481\n",
      "Epoch 20/20\n",
      "363/363 [==============================] - 0s 875us/step - loss: 0.4295 - val_loss: 0.4023\n",
      "162/162 [==============================] - 0s 580us/step - loss: 0.4228\n",
      "1/1 [==============================] - 0s 40ms/step\n"
     ]
    }
   ],
   "source": [
    "model = keras.models.Sequential([\n",
    "    keras.layers.Dense(30, activation=\"relu\", input_shape=X_train.shape[1:]),\n",
    "    keras.layers.Dense(1)\n",
    "])\n",
    "model.compile(loss=\"mean_squared_error\", optimizer=keras.optimizers.SGD(learning_rate=1e-3))\n",
    "history = model.fit(X_train, y_train, epochs=20, validation_data=(X_valid, y_valid))\n",
    "mse_test = model.evaluate(X_test, y_test)\n",
    "X_new = X_test[:3]\n",
    "y_pred = model.predict(X_new)"
   ],
   "metadata": {
    "collapsed": false
   }
  },
  {
   "cell_type": "code",
   "execution_count": 52,
   "outputs": [
    {
     "data": {
      "text/plain": "<Figure size 640x480 with 1 Axes>",
      "image/png": "[encoded data removed]"
     },
     "metadata": {},
     "output_type": "display_data"
    }
   ],
   "source": [
    "plt.plot(pd.DataFrame(history.history))\n",
    "plt.grid(True)\n",
    "plt.gca().set_ylim(0, 1)\n",
    "plt.show()"
   ],
   "metadata": {
    "collapsed": false
   }
  },
  {
   "cell_type": "code",
   "execution_count": 53,
   "outputs": [
    {
     "data": {
      "text/plain": "array([[0.34809893],\n       [1.7637584 ],\n       [3.3636413 ]], dtype=float32)"
     },
     "execution_count": 53,
     "metadata": {},
     "output_type": "execute_result"
    }
   ],
   "source": [
    "y_pred"
   ],
   "metadata": {
    "collapsed": false
   }
  },
  {
   "cell_type": "code",
   "execution_count": null,
   "outputs": [],
   "source": [],
   "metadata": {
    "collapsed": false
   }
  },
  {
   "cell_type": "code",
   "execution_count": null,
   "outputs": [],
   "source": [],
   "metadata": {
    "collapsed": false
   }
  }
 ],
 "metadata": {
  "kernelspec": {
   "display_name": "Python 3",
   "language": "python",
   "name": "python3"
  },
  "language_info": {
   "codemirror_mode": {
    "name": "ipython",
    "version": 2
   },
   "file_extension": ".py",
   "mimetype": "text/x-python",
   "name": "python",
   "nbconvert_exporter": "python",
   "pygments_lexer": "ipython2",
   "version": "2.7.6"
  }
 },
 "nbformat": 4,
 "nbformat_minor": 0
}
